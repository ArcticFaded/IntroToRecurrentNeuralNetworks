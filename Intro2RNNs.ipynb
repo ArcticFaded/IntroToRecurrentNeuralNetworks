{
 "cells": [
  {
   "cell_type": "markdown",
   "metadata": {},
   "source": [
    "# For this workshop we will be using Keras to quickly prototype a working stock prediction model!"
   ]
  },
  {
   "cell_type": "code",
   "execution_count": 19,
   "metadata": {},
   "outputs": [
    {
     "data": {
      "text/html": [
       "<div>\n",
       "<style scoped>\n",
       "    .dataframe tbody tr th:only-of-type {\n",
       "        vertical-align: middle;\n",
       "    }\n",
       "\n",
       "    .dataframe tbody tr th {\n",
       "        vertical-align: top;\n",
       "    }\n",
       "\n",
       "    .dataframe thead th {\n",
       "        text-align: right;\n",
       "    }\n",
       "</style>\n",
       "<table border=\"1\" class=\"dataframe\">\n",
       "  <thead>\n",
       "    <tr style=\"text-align: right;\">\n",
       "      <th></th>\n",
       "      <th>Date</th>\n",
       "      <th>Open</th>\n",
       "      <th>High</th>\n",
       "      <th>Low</th>\n",
       "      <th>Close</th>\n",
       "      <th>Volume</th>\n",
       "    </tr>\n",
       "  </thead>\n",
       "  <tbody>\n",
       "    <tr>\n",
       "      <th>0</th>\n",
       "      <td>2-Feb-18</td>\n",
       "      <td>166.00</td>\n",
       "      <td>166.80</td>\n",
       "      <td>160.10</td>\n",
       "      <td>160.50</td>\n",
       "      <td>86593825</td>\n",
       "    </tr>\n",
       "    <tr>\n",
       "      <th>1</th>\n",
       "      <td>1-Feb-18</td>\n",
       "      <td>167.16</td>\n",
       "      <td>168.62</td>\n",
       "      <td>166.76</td>\n",
       "      <td>167.78</td>\n",
       "      <td>47230787</td>\n",
       "    </tr>\n",
       "    <tr>\n",
       "      <th>2</th>\n",
       "      <td>31-Jan-18</td>\n",
       "      <td>166.87</td>\n",
       "      <td>168.44</td>\n",
       "      <td>166.50</td>\n",
       "      <td>167.43</td>\n",
       "      <td>32478930</td>\n",
       "    </tr>\n",
       "    <tr>\n",
       "      <th>3</th>\n",
       "      <td>30-Jan-18</td>\n",
       "      <td>165.52</td>\n",
       "      <td>167.37</td>\n",
       "      <td>164.70</td>\n",
       "      <td>166.97</td>\n",
       "      <td>46048185</td>\n",
       "    </tr>\n",
       "    <tr>\n",
       "      <th>4</th>\n",
       "      <td>29-Jan-18</td>\n",
       "      <td>170.16</td>\n",
       "      <td>170.16</td>\n",
       "      <td>167.07</td>\n",
       "      <td>167.96</td>\n",
       "      <td>50640406</td>\n",
       "    </tr>\n",
       "  </tbody>\n",
       "</table>\n",
       "</div>"
      ],
      "text/plain": [
       "        Date    Open    High     Low   Close    Volume\n",
       "0   2-Feb-18  166.00  166.80  160.10  160.50  86593825\n",
       "1   1-Feb-18  167.16  168.62  166.76  167.78  47230787\n",
       "2  31-Jan-18  166.87  168.44  166.50  167.43  32478930\n",
       "3  30-Jan-18  165.52  167.37  164.70  166.97  46048185\n",
       "4  29-Jan-18  170.16  170.16  167.07  167.96  50640406"
      ]
     },
     "execution_count": 19,
     "metadata": {},
     "output_type": "execute_result"
    }
   ],
   "source": [
    "from keras.models import Sequential\n",
    "from keras.layers.core import Dense, Dropout, Activation\n",
    "from keras.layers.recurrent import LSTM\n",
    "from sklearn.preprocessing import MinMaxScaler, StandardScaler\n",
    "from io import StringIO\n",
    "import requests\n",
    "import numpy as np\n",
    "import pandas as pd\n",
    "import time, math\n",
    "\n",
    "np.set_printoptions(precision=4)\n",
    "\n",
    "ticker = 'AAPL'\n",
    "\n",
    "r = requests.get(\"https://finance.google.com/finance/historical?q=\" + ticker + \"&startdate=01-Jan-2008&output=csv\")\n",
    "stock = pd.read_csv(StringIO(r.text))\n",
    "\n",
    "stock.head()"
   ]
  },
  {
   "cell_type": "markdown",
   "metadata": {},
   "source": [
    "# The Date Feature in time series serves as indexing\n",
    "\n",
    "## For style purposes the column we are trying to predict is always the last one(s)\n",
    "\n",
    "### Although here we are only predict closing price, recurrent neural networks are capable of predicting all the features in the dataset\n",
    "\n",
    "* unlike a traditional classification problem, the target column we are trying to predict is located within the training set\n",
    "* In the LSTM model, we are trying to use previous input sequences to try and predict future output sequences"
   ]
  },
  {
   "cell_type": "code",
   "execution_count": 20,
   "metadata": {},
   "outputs": [
    {
     "data": {
      "text/html": [
       "<div>\n",
       "<style scoped>\n",
       "    .dataframe tbody tr th:only-of-type {\n",
       "        vertical-align: middle;\n",
       "    }\n",
       "\n",
       "    .dataframe tbody tr th {\n",
       "        vertical-align: top;\n",
       "    }\n",
       "\n",
       "    .dataframe thead th {\n",
       "        text-align: right;\n",
       "    }\n",
       "</style>\n",
       "<table border=\"1\" class=\"dataframe\">\n",
       "  <thead>\n",
       "    <tr style=\"text-align: right;\">\n",
       "      <th></th>\n",
       "      <th>Volume</th>\n",
       "      <th>Open</th>\n",
       "      <th>High</th>\n",
       "      <th>Low</th>\n",
       "      <th>Close</th>\n",
       "    </tr>\n",
       "  </thead>\n",
       "  <tbody>\n",
       "    <tr>\n",
       "      <th>0</th>\n",
       "      <td>86593825</td>\n",
       "      <td>166.00</td>\n",
       "      <td>166.80</td>\n",
       "      <td>160.10</td>\n",
       "      <td>160.50</td>\n",
       "    </tr>\n",
       "    <tr>\n",
       "      <th>1</th>\n",
       "      <td>47230787</td>\n",
       "      <td>167.16</td>\n",
       "      <td>168.62</td>\n",
       "      <td>166.76</td>\n",
       "      <td>167.78</td>\n",
       "    </tr>\n",
       "    <tr>\n",
       "      <th>2</th>\n",
       "      <td>32478930</td>\n",
       "      <td>166.87</td>\n",
       "      <td>168.44</td>\n",
       "      <td>166.50</td>\n",
       "      <td>167.43</td>\n",
       "    </tr>\n",
       "    <tr>\n",
       "      <th>3</th>\n",
       "      <td>46048185</td>\n",
       "      <td>165.52</td>\n",
       "      <td>167.37</td>\n",
       "      <td>164.70</td>\n",
       "      <td>166.97</td>\n",
       "    </tr>\n",
       "    <tr>\n",
       "      <th>4</th>\n",
       "      <td>50640406</td>\n",
       "      <td>170.16</td>\n",
       "      <td>170.16</td>\n",
       "      <td>167.07</td>\n",
       "      <td>167.96</td>\n",
       "    </tr>\n",
       "  </tbody>\n",
       "</table>\n",
       "</div>"
      ],
      "text/plain": [
       "     Volume    Open    High     Low   Close\n",
       "0  86593825  166.00  166.80  160.10  160.50\n",
       "1  47230787  167.16  168.62  166.76  167.78\n",
       "2  32478930  166.87  168.44  166.50  167.43\n",
       "3  46048185  165.52  167.37  164.70  166.97\n",
       "4  50640406  170.16  170.16  167.07  167.96"
      ]
     },
     "execution_count": 20,
     "metadata": {},
     "output_type": "execute_result"
    }
   ],
   "source": [
    "stock.drop('Date', axis=1, inplace=True)\n",
    "\n",
    "cols = stock.columns.tolist()\n",
    "cols = cols[-1:] + cols[:-1]\n",
    "stock = stock[cols]\n",
    "\n",
    "stock.head()"
   ]
  },
  {
   "cell_type": "markdown",
   "metadata": {},
   "source": [
    "# When using any algorithm that uses an activation function, your data must be normalized to values within the activation\n",
    "\n",
    "## For using the ReLu function, you use min-max scaler (values between 0 and 1)\n",
    "\n",
    "## For using the Tanh function, you use StandardScaler (values between -1 and 1)"
   ]
  },
  {
   "cell_type": "code",
   "execution_count": 4,
   "metadata": {},
   "outputs": [
    {
     "name": "stderr",
     "output_type": "stream",
     "text": [
      "d:\\anaconda\\envs\\mangohacks\\lib\\site-packages\\ipykernel_launcher.py:5: FutureWarning: reshape is deprecated and will raise in a subsequent release. Please use .values.reshape(...) instead\n",
      "  \"\"\"\n"
     ]
    }
   ],
   "source": [
    "# normalizaing data\n",
    "# scale = MinMaxScaler(feature_range=(0,1)) # or StandardScaler\n",
    "# #scale = StandardScaler()\n",
    "# price = MinMaxScaler(feature_range=(0,1))\n",
    "# price.fit(stock['Close'].reshape(-1,1))\n",
    "# stock = pd.DataFrame(scale.fit_transform(stock), columns=['Volume', \n",
    "#                                                           'Open', \n",
    "#                                                           'High', \n",
    "#                                                           'Low', \n",
    "#                                                           'Close'])"
   ]
  },
  {
   "cell_type": "markdown",
   "metadata": {},
   "source": [
    "# Representing our data as a sequential model\n",
    "\n",
    "## If we have data like\n",
    "\n",
    "Volume | Open | High | Low | Close\n",
    "--- | --- | --- | --- | ---\n",
    "0.3106 | 0.1019 | 0.1004 | 0.0978 | 0.0991\n",
    "0.2393 | 0.0987 | 0.0979 | 0.0979 | 0.0992\n",
    "0.4237 | 0.0953 | 0.0942 | 0.0861 | 0.0866\n",
    "0.3547 | 0.0436 | 0.0416 | 0.0388 | 0.0397\n",
    "\n",
    "## suppose we choose to learn in sequences of 2 then our data will be represented like this\n",
    "\n",
    "[0.3106 | 0.1019 | 0.1004 | 0.0978 | 0.0991\n",
    "\n",
    "0.2393 | 0.0987 | 0.0979 | 0.0979 | 0.0992],\n",
    "\n",
    "[0.2393 | 0.0987 | 0.0979 | 0.0979 | 0.0992\n",
    "\n",
    "0.4237 | 0.0953 | 0.0942 | 0.0861 | 0.0866],\n",
    "\n",
    "[0.4237 | 0.0953 | 0.0942 | 0.0861 | 0.0866\n",
    "\n",
    "0.3547 | 0.0436 | 0.0416 | 0.0388 | 0.0397]\n",
    "\n",
    "we'll create a new object which is 3x2x5, [amount_of_sequences, sequence_length, amount_of_features]\n"
   ]
  },
  {
   "cell_type": "code",
   "execution_count": 29,
   "metadata": {},
   "outputs": [],
   "source": [
    "scalers = {}\n",
    "prices = {}\n",
    "\n",
    "def load_data(stock, seq_len, split):\n",
    "    amount_of_features = len(stock.columns)\n",
    "    data = stock.as_matrix()\n",
    "    sequence_length = seq_len + 1\n",
    "    result = []\n",
    "    \n",
    "    for index in range(len(data) - sequence_length):\n",
    "        scalers[index] = MinMaxScaler(feature_range=(0,1))\n",
    "        prices[index] = MinMaxScaler(feature_range=(0,1))\n",
    "        \n",
    "        prices[index].fit_transform(data[index: index + sequence_length][:, -1].reshape(-1,1))\n",
    "        result.append(scalers[index].fit_transform(data[index: index + sequence_length]))\n",
    "    \n",
    "    result = np.array(result)\n",
    "    row = len(result) * split\n",
    "    train = result[:int(row), :]\n",
    "    x_train = train[:, :-1]\n",
    "    y_train = train[:, -1][:,-1]\n",
    "    x_test = result[int(row):, :-1]\n",
    "    y_test = result[int(row):, -1][:,-1]\n",
    "    \n",
    "    \n",
    "    x_train = np.reshape(x_train, (x_train.shape[0], x_train.shape[1], amount_of_features))\n",
    "    x_test = np.reshape(x_test, (x_test.shape[0], x_test.shape[1], amount_of_features))  \n",
    "    \n",
    "    return [x_train, y_train, x_test, y_test]"
   ]
  },
  {
   "cell_type": "markdown",
   "metadata": {},
   "source": [
    "# What is a Recurrent Neural Network?\n",
    "\n",
    "![alt text](recurrent_cell.PNG \"Title\")\n",
    "\n",
    "Unlike regular feed foward networks, the output of a layer in a recurrent neural network feeds back in on itself\n",
    "\n",
    "![alt text](recurrent_network.PNG \"Title\")\n",
    "\n",
    "The problem with recurrent neural networks however is that the weight update is a function that grows exponential, meaning that updating weights suffer from something known as vanishing gradient\n",
    "\n",
    "![alt text](vanashing_RNN.PNG \"Title\")\n",
    "\n",
    "Popularity of Recurrent Neural Networks has been resugring thanks to the invention of this new architecture\n",
    "\n",
    "![alt text](LSTM_cell.PNG \"Title\")\n",
    "\n",
    "LSTM solves the issue of vanishing gradients by making linear changes to the output C_t, while keeping the change within the hidden layer"
   ]
  },
  {
   "cell_type": "code",
   "execution_count": 30,
   "metadata": {},
   "outputs": [
    {
     "name": "stdout",
     "output_type": "stream",
     "text": [
      "X_train (2132, 30, 5)\n",
      "y_train (2132,)\n",
      "X_test (377, 30, 5)\n",
      "y_test (377,)\n"
     ]
    }
   ],
   "source": [
    "window = 30 # Another hyperparameter\n",
    "\n",
    "X_train, y_train, X_test, y_test = load_data(stock[::-1], window, 0.85)\n",
    "print(\"X_train\", X_train.shape)\n",
    "print(\"y_train\", y_train.shape)\n",
    "print(\"X_test\", X_test.shape)\n",
    "print(\"y_test\", y_test.shape)"
   ]
  },
  {
   "cell_type": "code",
   "execution_count": 23,
   "metadata": {},
   "outputs": [],
   "source": [
    "def build_model(layers, dropout_rate, amount_of_layers):\n",
    "    model = Sequential()\n",
    "\n",
    "    for x in range(0,amount_of_layers):\n",
    "        model.add(LSTM(input_dim=layers[0], output_dim=layers[1], return_sequences=True))\n",
    "        model.add(Dropout(dropout_rate))\n",
    "\n",
    "    model.add(LSTM(layers[2], return_sequences=False)) \n",
    "    model.add(Dropout(dropout_rate))\n",
    "\n",
    "    model.add(Dense(output_dim=layers[2]))\n",
    "    model.add(Activation(\"relu\"))\n",
    "\n",
    "    start = time.time()\n",
    "    model.compile(loss=\"mse\", optimizer=\"rmsprop\",metrics=['accuracy'])\n",
    "    print(\"Compilation Time : \", time.time() - start)\n",
    "    return model"
   ]
  },
  {
   "cell_type": "code",
   "execution_count": 24,
   "metadata": {},
   "outputs": [
    {
     "name": "stderr",
     "output_type": "stream",
     "text": [
      "d:\\anaconda\\envs\\mangohacks\\lib\\site-packages\\ipykernel_launcher.py:5: UserWarning: The `input_dim` and `input_length` arguments in recurrent layers are deprecated. Use `input_shape` instead.\n",
      "  \"\"\"\n",
      "d:\\anaconda\\envs\\mangohacks\\lib\\site-packages\\ipykernel_launcher.py:5: UserWarning: Update your `LSTM` call to the Keras 2 API: `LSTM(return_sequences=True, input_shape=(None, 5), units=30)`\n",
      "  \"\"\"\n"
     ]
    },
    {
     "name": "stdout",
     "output_type": "stream",
     "text": [
      "Compilation Time :  0.037776947021484375\n"
     ]
    },
    {
     "name": "stderr",
     "output_type": "stream",
     "text": [
      "d:\\anaconda\\envs\\mangohacks\\lib\\site-packages\\ipykernel_launcher.py:11: UserWarning: Update your `Dense` call to the Keras 2 API: `Dense(units=1)`\n",
      "  # This is added back by InteractiveShellApp.init_path()\n"
     ]
    }
   ],
   "source": [
    "model = build_model([5, window, 1], 0.2, 3)"
   ]
  },
  {
   "cell_type": "code",
   "execution_count": 25,
   "metadata": {
    "scrolled": true
   },
   "outputs": [
    {
     "name": "stdout",
     "output_type": "stream",
     "text": [
      "Train on 1918 samples, validate on 214 samples\n",
      "Epoch 1/100\n",
      "1918/1918 [==============================] - 5s 3ms/step - loss: 0.4053 - acc: 0.0532 - val_loss: 0.1987 - val_acc: 0.0794\n",
      "Epoch 2/100\n",
      "1918/1918 [==============================] - 1s 418us/step - loss: 0.2678 - acc: 0.0532 - val_loss: 0.1588 - val_acc: 0.0794\n",
      "Epoch 3/100\n",
      "1918/1918 [==============================] - 1s 365us/step - loss: 0.2301 - acc: 0.0532 - val_loss: 0.1350 - val_acc: 0.0794\n",
      "Epoch 4/100\n",
      "1918/1918 [==============================] - 1s 366us/step - loss: 0.1966 - acc: 0.0766 - val_loss: 0.1219 - val_acc: 0.0794\n",
      "Epoch 5/100\n",
      "1918/1918 [==============================] - 1s 385us/step - loss: 0.1965 - acc: 0.1319 - val_loss: 0.1183 - val_acc: 0.0794\n",
      "Epoch 6/100\n",
      "1918/1918 [==============================] - 1s 374us/step - loss: 0.1801 - acc: 0.1455 - val_loss: 0.1173 - val_acc: 0.0794\n",
      "Epoch 7/100\n",
      "1918/1918 [==============================] - 1s 366us/step - loss: 0.1897 - acc: 0.1429 - val_loss: 0.1170 - val_acc: 0.0794\n",
      "Epoch 8/100\n",
      "1918/1918 [==============================] - 1s 366us/step - loss: 0.1804 - acc: 0.1408 - val_loss: 0.1169 - val_acc: 0.1075\n",
      "Epoch 9/100\n",
      "1918/1918 [==============================] - 1s 366us/step - loss: 0.1882 - acc: 0.1429 - val_loss: 0.1167 - val_acc: 0.1028\n",
      "Epoch 10/100\n",
      "1918/1918 [==============================] - 1s 358us/step - loss: 0.1811 - acc: 0.1449 - val_loss: 0.1164 - val_acc: 0.1028\n",
      "Epoch 11/100\n",
      "1918/1918 [==============================] - 1s 366us/step - loss: 0.1779 - acc: 0.1481 - val_loss: 0.1160 - val_acc: 0.1028\n",
      "Epoch 12/100\n",
      "1918/1918 [==============================] - 1s 366us/step - loss: 0.1766 - acc: 0.1481 - val_loss: 0.1154 - val_acc: 0.0794\n",
      "Epoch 13/100\n",
      "1918/1918 [==============================] - 1s 365us/step - loss: 0.1686 - acc: 0.1538 - val_loss: 0.1147 - val_acc: 0.1028\n",
      "Epoch 14/100\n",
      "1918/1918 [==============================] - 1s 374us/step - loss: 0.1763 - acc: 0.1491 - val_loss: 0.1136 - val_acc: 0.1121\n",
      "Epoch 15/100\n",
      "1918/1918 [==============================] - 1s 366us/step - loss: 0.1705 - acc: 0.1502 - val_loss: 0.1100 - val_acc: 0.1542\n",
      "Epoch 16/100\n",
      "1918/1918 [==============================] - 1s 357us/step - loss: 0.1755 - acc: 0.1361 - val_loss: 0.1054 - val_acc: 0.1636\n",
      "Epoch 17/100\n",
      "1918/1918 [==============================] - 1s 374us/step - loss: 0.1656 - acc: 0.1496 - val_loss: 0.0990 - val_acc: 0.1729\n",
      "Epoch 18/100\n",
      "1918/1918 [==============================] - 1s 374us/step - loss: 0.1580 - acc: 0.1517 - val_loss: 0.0916 - val_acc: 0.1729\n",
      "Epoch 19/100\n",
      "1918/1918 [==============================] - 1s 366us/step - loss: 0.1457 - acc: 0.1658 - val_loss: 0.0804 - val_acc: 0.1636\n",
      "Epoch 20/100\n",
      "1918/1918 [==============================] - 1s 382us/step - loss: 0.1425 - acc: 0.1747 - val_loss: 0.0881 - val_acc: 0.1308\n",
      "Epoch 21/100\n",
      "1918/1918 [==============================] - 1s 377us/step - loss: 0.1538 - acc: 0.1517 - val_loss: 0.0734 - val_acc: 0.1636\n",
      "Epoch 22/100\n",
      "1918/1918 [==============================] - 1s 382us/step - loss: 0.1426 - acc: 0.1715 - val_loss: 0.0716 - val_acc: 0.1729\n",
      "Epoch 23/100\n",
      "1918/1918 [==============================] - 1s 374us/step - loss: 0.1327 - acc: 0.1736 - val_loss: 0.0797 - val_acc: 0.1495\n",
      "Epoch 24/100\n",
      "1918/1918 [==============================] - 1s 374us/step - loss: 0.1337 - acc: 0.1710 - val_loss: 0.0691 - val_acc: 0.1636\n",
      "Epoch 25/100\n",
      "1918/1918 [==============================] - 1s 386us/step - loss: 0.1422 - acc: 0.1721 - val_loss: 0.0684 - val_acc: 0.1589\n",
      "Epoch 26/100\n",
      "1918/1918 [==============================] - 1s 374us/step - loss: 0.1327 - acc: 0.1700 - val_loss: 0.0698 - val_acc: 0.1589\n",
      "Epoch 27/100\n",
      "1918/1918 [==============================] - 1s 382us/step - loss: 0.1369 - acc: 0.1694 - val_loss: 0.0646 - val_acc: 0.1636\n",
      "Epoch 28/100\n",
      "1918/1918 [==============================] - 1s 374us/step - loss: 0.1287 - acc: 0.1721 - val_loss: 0.0614 - val_acc: 0.1682\n",
      "Epoch 29/100\n",
      "1918/1918 [==============================] - 1s 373us/step - loss: 0.1361 - acc: 0.1705 - val_loss: 0.0618 - val_acc: 0.1636\n",
      "Epoch 30/100\n",
      "1918/1918 [==============================] - 1s 378us/step - loss: 0.1299 - acc: 0.1700 - val_loss: 0.0572 - val_acc: 0.1682\n",
      "Epoch 31/100\n",
      "1918/1918 [==============================] - 1s 374us/step - loss: 0.1242 - acc: 0.1731 - val_loss: 0.0604 - val_acc: 0.1636\n",
      "Epoch 32/100\n",
      "1918/1918 [==============================] - 1s 357us/step - loss: 0.1242 - acc: 0.1705 - val_loss: 0.0584 - val_acc: 0.1636\n",
      "Epoch 33/100\n",
      "1918/1918 [==============================] - 1s 365us/step - loss: 0.1174 - acc: 0.1804 - val_loss: 0.0560 - val_acc: 0.1729\n",
      "Epoch 34/100\n",
      "1918/1918 [==============================] - 1s 366us/step - loss: 0.1193 - acc: 0.1668 - val_loss: 0.0548 - val_acc: 0.1682\n",
      "Epoch 35/100\n",
      "1918/1918 [==============================] - 1s 374us/step - loss: 0.1228 - acc: 0.1689 - val_loss: 0.0566 - val_acc: 0.1729\n",
      "Epoch 36/100\n",
      "1918/1918 [==============================] - 1s 390us/step - loss: 0.1168 - acc: 0.1778 - val_loss: 0.0545 - val_acc: 0.1776\n",
      "Epoch 37/100\n",
      "1918/1918 [==============================] - 1s 386us/step - loss: 0.1183 - acc: 0.1767 - val_loss: 0.0506 - val_acc: 0.1776\n",
      "Epoch 38/100\n",
      "1918/1918 [==============================] - 1s 398us/step - loss: 0.1206 - acc: 0.1705 - val_loss: 0.0617 - val_acc: 0.1776\n",
      "Epoch 39/100\n",
      "1918/1918 [==============================] - 1s 374us/step - loss: 0.1203 - acc: 0.1715 - val_loss: 0.0518 - val_acc: 0.1776\n",
      "Epoch 40/100\n",
      "1918/1918 [==============================] - 1s 366us/step - loss: 0.1089 - acc: 0.1846 - val_loss: 0.0495 - val_acc: 0.1776\n",
      "Epoch 41/100\n",
      "1918/1918 [==============================] - 1s 377us/step - loss: 0.1097 - acc: 0.1825 - val_loss: 0.0487 - val_acc: 0.1729\n",
      "Epoch 42/100\n",
      "1918/1918 [==============================] - 1s 382us/step - loss: 0.1157 - acc: 0.1830 - val_loss: 0.0477 - val_acc: 0.1776\n",
      "Epoch 43/100\n",
      "1918/1918 [==============================] - 1s 374us/step - loss: 0.1074 - acc: 0.1809 - val_loss: 0.0468 - val_acc: 0.1776\n",
      "Epoch 44/100\n",
      "1918/1918 [==============================] - 1s 382us/step - loss: 0.1131 - acc: 0.1757 - val_loss: 0.0522 - val_acc: 0.1729\n",
      "Epoch 45/100\n",
      "1918/1918 [==============================] - 1s 366us/step - loss: 0.1111 - acc: 0.1752 - val_loss: 0.0459 - val_acc: 0.1776\n",
      "Epoch 46/100\n",
      "1918/1918 [==============================] - 1s 369us/step - loss: 0.1085 - acc: 0.1767 - val_loss: 0.0503 - val_acc: 0.1729\n",
      "Epoch 47/100\n",
      "1918/1918 [==============================] - 1s 366us/step - loss: 0.1060 - acc: 0.1851 - val_loss: 0.0442 - val_acc: 0.1776\n",
      "Epoch 48/100\n",
      "1918/1918 [==============================] - 1s 374us/step - loss: 0.0969 - acc: 0.1820 - val_loss: 0.0440 - val_acc: 0.1776\n",
      "Epoch 49/100\n",
      "1918/1918 [==============================] - 1s 374us/step - loss: 0.1016 - acc: 0.1804 - val_loss: 0.0451 - val_acc: 0.1776\n",
      "Epoch 50/100\n",
      "1918/1918 [==============================] - 1s 365us/step - loss: 0.0962 - acc: 0.1825 - val_loss: 0.0399 - val_acc: 0.1776\n",
      "Epoch 51/100\n",
      "1918/1918 [==============================] - 1s 374us/step - loss: 0.1029 - acc: 0.1814 - val_loss: 0.0411 - val_acc: 0.1776\n",
      "Epoch 52/100\n",
      "1918/1918 [==============================] - 1s 374us/step - loss: 0.0934 - acc: 0.1887 - val_loss: 0.0405 - val_acc: 0.1822\n",
      "Epoch 53/100\n",
      "1918/1918 [==============================] - 1s 374us/step - loss: 0.0954 - acc: 0.1830 - val_loss: 0.0414 - val_acc: 0.1776\n",
      "Epoch 54/100\n",
      "1918/1918 [==============================] - 1s 385us/step - loss: 0.0887 - acc: 0.1861 - val_loss: 0.0413 - val_acc: 0.1776\n",
      "Epoch 55/100\n",
      "1918/1918 [==============================] - 1s 390us/step - loss: 0.0948 - acc: 0.1794 - val_loss: 0.0389 - val_acc: 0.1776\n",
      "Epoch 56/100\n",
      "1918/1918 [==============================] - 1s 394us/step - loss: 0.0893 - acc: 0.1846 - val_loss: 0.0387 - val_acc: 0.1776\n",
      "Epoch 57/100\n",
      "1918/1918 [==============================] - 1s 382us/step - loss: 0.0924 - acc: 0.1799 - val_loss: 0.0401 - val_acc: 0.1776\n",
      "Epoch 58/100\n",
      "1918/1918 [==============================] - 1s 374us/step - loss: 0.0937 - acc: 0.1778 - val_loss: 0.0349 - val_acc: 0.1822\n",
      "Epoch 59/100\n",
      "1918/1918 [==============================] - 1s 374us/step - loss: 0.0815 - acc: 0.1913 - val_loss: 0.0387 - val_acc: 0.1776\n",
      "Epoch 60/100\n"
     ]
    },
    {
     "name": "stdout",
     "output_type": "stream",
     "text": [
      "1918/1918 [==============================] - 1s 377us/step - loss: 0.0870 - acc: 0.1840 - val_loss: 0.0357 - val_acc: 0.1776\n",
      "Epoch 61/100\n",
      "1918/1918 [==============================] - 1s 374us/step - loss: 0.0844 - acc: 0.1851 - val_loss: 0.0344 - val_acc: 0.1776\n",
      "Epoch 62/100\n",
      "1918/1918 [==============================] - 1s 365us/step - loss: 0.0799 - acc: 0.1846 - val_loss: 0.0318 - val_acc: 0.1822\n",
      "Epoch 63/100\n",
      "1918/1918 [==============================] - 1s 373us/step - loss: 0.0836 - acc: 0.1804 - val_loss: 0.0330 - val_acc: 0.1822\n",
      "Epoch 64/100\n",
      "1918/1918 [==============================] - 1s 366us/step - loss: 0.0803 - acc: 0.1840 - val_loss: 0.0325 - val_acc: 0.1822\n",
      "Epoch 65/100\n",
      "1918/1918 [==============================] - 1s 357us/step - loss: 0.0816 - acc: 0.1804 - val_loss: 0.0319 - val_acc: 0.1822\n",
      "Epoch 66/100\n",
      "1918/1918 [==============================] - 1s 367us/step - loss: 0.0805 - acc: 0.1830 - val_loss: 0.0330 - val_acc: 0.1822\n",
      "Epoch 67/100\n",
      "1918/1918 [==============================] - 1s 364us/step - loss: 0.0794 - acc: 0.1840 - val_loss: 0.0408 - val_acc: 0.1729\n",
      "Epoch 68/100\n",
      "1918/1918 [==============================] - 1s 374us/step - loss: 0.0797 - acc: 0.1851 - val_loss: 0.0322 - val_acc: 0.1822\n",
      "Epoch 69/100\n",
      "1918/1918 [==============================] - 1s 366us/step - loss: 0.0738 - acc: 0.1846 - val_loss: 0.0312 - val_acc: 0.1822\n",
      "Epoch 70/100\n",
      "1918/1918 [==============================] - 1s 366us/step - loss: 0.0781 - acc: 0.1830 - val_loss: 0.0317 - val_acc: 0.1822\n",
      "Epoch 71/100\n",
      "1918/1918 [==============================] - 1s 358us/step - loss: 0.0752 - acc: 0.1830 - val_loss: 0.0349 - val_acc: 0.1776\n",
      "Epoch 72/100\n",
      "1918/1918 [==============================] - 1s 374us/step - loss: 0.0763 - acc: 0.1856 - val_loss: 0.0339 - val_acc: 0.1776\n",
      "Epoch 73/100\n",
      "1918/1918 [==============================] - 1s 374us/step - loss: 0.0714 - acc: 0.1867 - val_loss: 0.0346 - val_acc: 0.1776\n",
      "Epoch 74/100\n",
      "1918/1918 [==============================] - 1s 374us/step - loss: 0.0730 - acc: 0.1840 - val_loss: 0.0322 - val_acc: 0.1822\n",
      "Epoch 75/100\n",
      "1918/1918 [==============================] - 1s 365us/step - loss: 0.0742 - acc: 0.1851 - val_loss: 0.0307 - val_acc: 0.1822\n",
      "Epoch 76/100\n",
      "1918/1918 [==============================] - 1s 365us/step - loss: 0.0722 - acc: 0.1851 - val_loss: 0.0312 - val_acc: 0.1776\n",
      "Epoch 77/100\n",
      "1918/1918 [==============================] - 1s 366us/step - loss: 0.0702 - acc: 0.1851 - val_loss: 0.0330 - val_acc: 0.1776\n",
      "Epoch 78/100\n",
      "1918/1918 [==============================] - 1s 374us/step - loss: 0.0695 - acc: 0.1809 - val_loss: 0.0321 - val_acc: 0.1776\n",
      "Epoch 79/100\n",
      "1918/1918 [==============================] - 1s 369us/step - loss: 0.0688 - acc: 0.1840 - val_loss: 0.0317 - val_acc: 0.1776\n",
      "Epoch 80/100\n",
      "1918/1918 [==============================] - 1s 374us/step - loss: 0.0659 - acc: 0.1913 - val_loss: 0.0323 - val_acc: 0.1776\n",
      "Epoch 81/100\n",
      "1918/1918 [==============================] - 1s 366us/step - loss: 0.0701 - acc: 0.1825 - val_loss: 0.0376 - val_acc: 0.1776\n",
      "Epoch 82/100\n",
      "1918/1918 [==============================] - 1s 374us/step - loss: 0.0708 - acc: 0.1814 - val_loss: 0.0351 - val_acc: 0.1776\n",
      "Epoch 83/100\n",
      "1918/1918 [==============================] - 1s 382us/step - loss: 0.0715 - acc: 0.1830 - val_loss: 0.0350 - val_acc: 0.1776\n",
      "Epoch 84/100\n",
      "1918/1918 [==============================] - 1s 385us/step - loss: 0.0679 - acc: 0.1867 - val_loss: 0.0360 - val_acc: 0.1776\n",
      "Epoch 85/100\n",
      "1918/1918 [==============================] - 1s 398us/step - loss: 0.0672 - acc: 0.1919 - val_loss: 0.0335 - val_acc: 0.1776\n",
      "Epoch 86/100\n",
      "1918/1918 [==============================] - 1s 385us/step - loss: 0.0654 - acc: 0.1867 - val_loss: 0.0335 - val_acc: 0.1776\n",
      "Epoch 87/100\n",
      "1918/1918 [==============================] - 1s 382us/step - loss: 0.0702 - acc: 0.1835 - val_loss: 0.0338 - val_acc: 0.1776\n",
      "Epoch 88/100\n",
      "1918/1918 [==============================] - 1s 366us/step - loss: 0.0619 - acc: 0.1867 - val_loss: 0.0340 - val_acc: 0.1822\n",
      "Epoch 89/100\n",
      "1918/1918 [==============================] - 1s 382us/step - loss: 0.0675 - acc: 0.1898 - val_loss: 0.0351 - val_acc: 0.1776\n",
      "Epoch 90/100\n",
      "1918/1918 [==============================] - 1s 374us/step - loss: 0.0655 - acc: 0.1846 - val_loss: 0.0345 - val_acc: 0.1776\n",
      "Epoch 91/100\n",
      "1918/1918 [==============================] - 1s 377us/step - loss: 0.0671 - acc: 0.1851 - val_loss: 0.0356 - val_acc: 0.1776\n",
      "Epoch 92/100\n",
      "1918/1918 [==============================] - 1s 374us/step - loss: 0.0650 - acc: 0.1867 - val_loss: 0.0355 - val_acc: 0.1776\n",
      "Epoch 93/100\n",
      "1918/1918 [==============================] - 1s 374us/step - loss: 0.0654 - acc: 0.1851 - val_loss: 0.0355 - val_acc: 0.1776\n",
      "Epoch 94/100\n",
      "1918/1918 [==============================] - 1s 374us/step - loss: 0.0640 - acc: 0.1861 - val_loss: 0.0358 - val_acc: 0.1822\n",
      "Epoch 95/100\n",
      "1918/1918 [==============================] - 1s 374us/step - loss: 0.0621 - acc: 0.1903 - val_loss: 0.0365 - val_acc: 0.1776\n",
      "Epoch 96/100\n",
      "1918/1918 [==============================] - 1s 384us/step - loss: 0.0599 - acc: 0.1934 - val_loss: 0.0362 - val_acc: 0.1776\n",
      "Epoch 97/100\n",
      "1918/1918 [==============================] - 1s 367us/step - loss: 0.0614 - acc: 0.1919 - val_loss: 0.0375 - val_acc: 0.1776\n",
      "Epoch 98/100\n",
      "1918/1918 [==============================] - 1s 374us/step - loss: 0.0615 - acc: 0.1898 - val_loss: 0.0368 - val_acc: 0.1776\n",
      "Epoch 99/100\n",
      "1918/1918 [==============================] - 1s 374us/step - loss: 0.0597 - acc: 0.1924 - val_loss: 0.0370 - val_acc: 0.1776\n",
      "Epoch 100/100\n",
      "1918/1918 [==============================] - 1s 383us/step - loss: 0.0602 - acc: 0.1924 - val_loss: 0.0373 - val_acc: 0.1776\n"
     ]
    },
    {
     "data": {
      "text/plain": [
       "<keras.callbacks.History at 0x1bf760113c8>"
      ]
     },
     "execution_count": 25,
     "metadata": {},
     "output_type": "execute_result"
    }
   ],
   "source": [
    "model.fit(X_train, y_train, batch_size=512, epochs=100, validation_split=0.1, verbose=1)"
   ]
  },
  {
   "cell_type": "code",
   "execution_count": 13,
   "metadata": {},
   "outputs": [
    {
     "data": {
      "image/png": "[encoded data removed]",
      "text/plain": [
       "<matplotlib.figure.Figure at 0x1bf75479320>"
      ]
     },
     "metadata": {},
     "output_type": "display_data"
    }
   ],
   "source": [
    "import matplotlib.pyplot as plt\n",
    "\n",
    "plt.plot(stock['Close'][::-1].reset_index()['Close'])\n",
    "\n",
    "plt.show()"
   ]
  },
  {
   "cell_type": "code",
   "execution_count": 26,
   "metadata": {},
   "outputs": [
    {
     "name": "stdout",
     "output_type": "stream",
     "text": [
      "Train Score: 0.03 MSE (0.18 RMSE)\n",
      "Test Score: 0.03 MSE (0.16 RMSE)\n"
     ]
    }
   ],
   "source": [
    "trainScore = model.evaluate(X_train, y_train, verbose=0)\n",
    "print('Train Score: %.2f MSE (%.2f RMSE)' % (trainScore[0], math.sqrt(trainScore[0])))\n",
    "\n",
    "testScore = model.evaluate(X_test, y_test, verbose=0)\n",
    "print('Test Score: %.2f MSE (%.2f RMSE)' % (testScore[0], math.sqrt(testScore[0])))"
   ]
  },
  {
   "cell_type": "code",
   "execution_count": 27,
   "metadata": {},
   "outputs": [],
   "source": [
    "pred = model.predict(X_test)"
   ]
  },
  {
   "cell_type": "code",
   "execution_count": 35,
   "metadata": {},
   "outputs": [
    {
     "data": {
      "image/png": "[encoded data removed]",
      "text/plain": [
       "<matplotlib.figure.Figure at 0x1bf01c6f748>"
      ]
     },
     "metadata": {},
     "output_type": "display_data"
    }
   ],
   "source": [
    "plt.figure(figsize=(15,4), dpi=100)\n",
    "\n",
    "results = []\n",
    "pred_results = []\n",
    "counter = 0\n",
    "\n",
    "for x in np.arange(2160, 2507, 1): #2160, 2161, ..., 2507\n",
    "    results = results + [prices[x].inverse_transform(pred[counter: counter + 30]).reshape(-1,1)[0]]\n",
    "    counter = counter + 1\n",
    "\n",
    "\n",
    "plt.plot(np.arange(2160, 2507, 1),results, color='red', label='predicted price')\n",
    "plt.plot(stock['Close'][::-1].reset_index()['Close'][-347:], color='black', label='real price')\n",
    "\n",
    "\n",
    "plt.xlabel('number of days where 01-Jan-2008 is 0 ')\n",
    "plt.ylabel('price per stock')\n",
    "plt.legend(loc='upper left')\n",
    "plt.show()"
   ]
  },
  {
   "cell_type": "code",
   "execution_count": null,
   "metadata": {},
   "outputs": [],
   "source": []
  }
 ],
 "metadata": {
  "kernelspec": {
   "display_name": "Python 3",
   "language": "python",
   "name": "python3"
  },
  "language_info": {
   "codemirror_mode": {
    "name": "ipython",
    "version": 3
   },
   "file_extension": ".py",
   "mimetype": "text/x-python",
   "name": "python",
   "nbconvert_exporter": "python",
   "pygments_lexer": "ipython3",
   "version": "3.6.4"
  }
 },
 "nbformat": 4,
 "nbformat_minor": 2
}
